{
 "cells": [
  {
   "cell_type": "code",
   "execution_count": 1,
   "metadata": {
    "collapsed": true
   },
   "outputs": [],
   "source": [
    "import pandas as pd\n",
    "import numpy as np\n",
    "import matplotlib.pyplot as plt\n",
    "import datetime\n",
    "\n",
    "%matplotlib inline"
   ]
  },
  {
   "cell_type": "markdown",
   "metadata": {},
   "source": [
    "### Data Sources\n",
    "\n",
    "- Open Payments data was obtained on (2016, 11, 23, 19, 32, 11, 328980) from https://www.cms.gov/OpenPayments/Explore-the-Data/Dataset-Downloads.html\n",
    "- MAX data for 2013 was obtained on (2016, 11, 25, 16, 21, 50, 811314) from https://www.cms.gov/Research-Statistics-Data-and-Systems/Computer-Data-and-Systems/MedicaidDataSourcesGenInfo/MAXGeneralInformation.html"
   ]
  },
  {
   "cell_type": "markdown",
   "metadata": {},
   "source": [
    "### Open Payments Data"
   ]
  },
  {
   "cell_type": "code",
   "execution_count": 2,
   "metadata": {
    "collapsed": false
   },
   "outputs": [
    {
     "name": "stderr",
     "output_type": "stream",
     "text": [
      "/Library/Python/2.7/site-packages/IPython/core/interactiveshell.py:2902: DtypeWarning: Columns (15) have mixed types. Specify dtype option on import or set low_memory=False.\n",
      "  interactivity=interactivity, compiler=compiler, result=result)\n"
     ]
    }
   ],
   "source": [
    "physicians = pd.read_csv('../data/OP_PH_PRFL_SPLMTL_P06302016.csv')"
   ]
  },
  {
   "cell_type": "code",
   "execution_count": 3,
   "metadata": {
    "collapsed": false
   },
   "outputs": [
    {
     "data": {
      "text/html": [
       "<div>\n",
       "<table border=\"1\" class=\"dataframe\">\n",
       "  <thead>\n",
       "    <tr style=\"text-align: right;\">\n",
       "      <th></th>\n",
       "      <th>Physician_Profile_ID</th>\n",
       "      <th>Physician_Profile_First_Name</th>\n",
       "      <th>Physician_Profile_Middle_Name</th>\n",
       "      <th>Physician_Profile_Last_Name</th>\n",
       "      <th>Physician_Profile_Suffix</th>\n",
       "      <th>Physician_Profile_Alternate_First_Name</th>\n",
       "      <th>Physician_Profile_Alternate_Middle_Name</th>\n",
       "      <th>Physician_Profile_Alternate_Last_Name</th>\n",
       "      <th>Physician_Profile_Alternate_Suffix</th>\n",
       "      <th>Physician_Profile_Address_Line_1</th>\n",
       "      <th>...</th>\n",
       "      <th>Physician_Profile_OPS_Taxonomy_1</th>\n",
       "      <th>Physician_Profile_OPS_Taxonomy_2</th>\n",
       "      <th>Physician_Profile_OPS_Taxonomy_3</th>\n",
       "      <th>Physician_Profile_OPS_Taxonomy_4</th>\n",
       "      <th>Physician_Profile_OPS_Taxonomy_5</th>\n",
       "      <th>Physician_Profile_License_State_Code_1</th>\n",
       "      <th>Physician_Profile_License_State_Code_2</th>\n",
       "      <th>Physician_Profile_License_State_Code_3</th>\n",
       "      <th>Physician_Profile_License_State_Code_4</th>\n",
       "      <th>Physician_Profile_License_State_Code_5</th>\n",
       "    </tr>\n",
       "  </thead>\n",
       "  <tbody>\n",
       "    <tr>\n",
       "      <th>0</th>\n",
       "      <td>142</td>\n",
       "      <td>JOSEPH</td>\n",
       "      <td>A</td>\n",
       "      <td>COCCO</td>\n",
       "      <td>NaN</td>\n",
       "      <td>NaN</td>\n",
       "      <td>NaN</td>\n",
       "      <td>NaN</td>\n",
       "      <td>NaN</td>\n",
       "      <td>204 WEST 26TH STREET</td>\n",
       "      <td>...</td>\n",
       "      <td>208600000X</td>\n",
       "      <td>NaN</td>\n",
       "      <td>NaN</td>\n",
       "      <td>NaN</td>\n",
       "      <td>NaN</td>\n",
       "      <td>PA</td>\n",
       "      <td>MI</td>\n",
       "      <td>NaN</td>\n",
       "      <td>NaN</td>\n",
       "      <td>NaN</td>\n",
       "    </tr>\n",
       "    <tr>\n",
       "      <th>1</th>\n",
       "      <td>143</td>\n",
       "      <td>JAMES</td>\n",
       "      <td>JOSEPH</td>\n",
       "      <td>STEIDLER</td>\n",
       "      <td>NaN</td>\n",
       "      <td>JAMES</td>\n",
       "      <td>J</td>\n",
       "      <td>STEIDLER</td>\n",
       "      <td>NaN</td>\n",
       "      <td>480 PLUMAS BLVD  SUITE 204</td>\n",
       "      <td>...</td>\n",
       "      <td>2085N0904X</td>\n",
       "      <td>2085R0203X</td>\n",
       "      <td>2085R0202X</td>\n",
       "      <td>2085B0100X</td>\n",
       "      <td>2085N0700X</td>\n",
       "      <td>CA</td>\n",
       "      <td>NaN</td>\n",
       "      <td>NaN</td>\n",
       "      <td>NaN</td>\n",
       "      <td>NaN</td>\n",
       "    </tr>\n",
       "    <tr>\n",
       "      <th>2</th>\n",
       "      <td>144</td>\n",
       "      <td>MICHAEL</td>\n",
       "      <td>NaN</td>\n",
       "      <td>SUBIK</td>\n",
       "      <td>NaN</td>\n",
       "      <td>NaN</td>\n",
       "      <td>NaN</td>\n",
       "      <td>NaN</td>\n",
       "      <td>NaN</td>\n",
       "      <td>160 RIDGE ROAD</td>\n",
       "      <td>...</td>\n",
       "      <td>213ES0103X</td>\n",
       "      <td>NaN</td>\n",
       "      <td>NaN</td>\n",
       "      <td>NaN</td>\n",
       "      <td>NaN</td>\n",
       "      <td>NJ</td>\n",
       "      <td>NaN</td>\n",
       "      <td>NaN</td>\n",
       "      <td>NaN</td>\n",
       "      <td>NaN</td>\n",
       "    </tr>\n",
       "    <tr>\n",
       "      <th>3</th>\n",
       "      <td>145</td>\n",
       "      <td>June-Chieh</td>\n",
       "      <td>NaN</td>\n",
       "      <td>Chang</td>\n",
       "      <td>NaN</td>\n",
       "      <td>NaN</td>\n",
       "      <td>NaN</td>\n",
       "      <td>NaN</td>\n",
       "      <td>NaN</td>\n",
       "      <td>NaN</td>\n",
       "      <td>...</td>\n",
       "      <td>NaN</td>\n",
       "      <td>NaN</td>\n",
       "      <td>NaN</td>\n",
       "      <td>NaN</td>\n",
       "      <td>NaN</td>\n",
       "      <td>TX</td>\n",
       "      <td>NaN</td>\n",
       "      <td>NaN</td>\n",
       "      <td>NaN</td>\n",
       "      <td>NaN</td>\n",
       "    </tr>\n",
       "    <tr>\n",
       "      <th>4</th>\n",
       "      <td>146</td>\n",
       "      <td>PATRICK</td>\n",
       "      <td>P</td>\n",
       "      <td>BULINSKI</td>\n",
       "      <td>NaN</td>\n",
       "      <td>NaN</td>\n",
       "      <td>NaN</td>\n",
       "      <td>NaN</td>\n",
       "      <td>NaN</td>\n",
       "      <td>1414 W FAIR AVE SUITE 230 N</td>\n",
       "      <td>...</td>\n",
       "      <td>208600000X</td>\n",
       "      <td>NaN</td>\n",
       "      <td>NaN</td>\n",
       "      <td>NaN</td>\n",
       "      <td>NaN</td>\n",
       "      <td>MI</td>\n",
       "      <td>NaN</td>\n",
       "      <td>NaN</td>\n",
       "      <td>NaN</td>\n",
       "      <td>NaN</td>\n",
       "    </tr>\n",
       "  </tbody>\n",
       "</table>\n",
       "<p>5 rows × 27 columns</p>\n",
       "</div>"
      ],
      "text/plain": [
       "   Physician_Profile_ID Physician_Profile_First_Name  \\\n",
       "0                   142                       JOSEPH   \n",
       "1                   143                        JAMES   \n",
       "2                   144                      MICHAEL   \n",
       "3                   145                   June-Chieh   \n",
       "4                   146                      PATRICK   \n",
       "\n",
       "  Physician_Profile_Middle_Name Physician_Profile_Last_Name  \\\n",
       "0                             A                       COCCO   \n",
       "1                        JOSEPH                    STEIDLER   \n",
       "2                           NaN                       SUBIK   \n",
       "3                           NaN                       Chang   \n",
       "4                             P                    BULINSKI   \n",
       "\n",
       "  Physician_Profile_Suffix Physician_Profile_Alternate_First_Name  \\\n",
       "0                      NaN                                    NaN   \n",
       "1                      NaN                                  JAMES   \n",
       "2                      NaN                                    NaN   \n",
       "3                      NaN                                    NaN   \n",
       "4                      NaN                                    NaN   \n",
       "\n",
       "  Physician_Profile_Alternate_Middle_Name  \\\n",
       "0                                     NaN   \n",
       "1                                       J   \n",
       "2                                     NaN   \n",
       "3                                     NaN   \n",
       "4                                     NaN   \n",
       "\n",
       "  Physician_Profile_Alternate_Last_Name Physician_Profile_Alternate_Suffix  \\\n",
       "0                                   NaN                                NaN   \n",
       "1                              STEIDLER                                NaN   \n",
       "2                                   NaN                                NaN   \n",
       "3                                   NaN                                NaN   \n",
       "4                                   NaN                                NaN   \n",
       "\n",
       "  Physician_Profile_Address_Line_1                  ...                    \\\n",
       "0             204 WEST 26TH STREET                  ...                     \n",
       "1       480 PLUMAS BLVD  SUITE 204                  ...                     \n",
       "2                   160 RIDGE ROAD                  ...                     \n",
       "3                              NaN                  ...                     \n",
       "4      1414 W FAIR AVE SUITE 230 N                  ...                     \n",
       "\n",
       "  Physician_Profile_OPS_Taxonomy_1 Physician_Profile_OPS_Taxonomy_2  \\\n",
       "0                       208600000X                              NaN   \n",
       "1                       2085N0904X                       2085R0203X   \n",
       "2                       213ES0103X                              NaN   \n",
       "3                              NaN                              NaN   \n",
       "4                       208600000X                              NaN   \n",
       "\n",
       "  Physician_Profile_OPS_Taxonomy_3 Physician_Profile_OPS_Taxonomy_4  \\\n",
       "0                              NaN                              NaN   \n",
       "1                       2085R0202X                       2085B0100X   \n",
       "2                              NaN                              NaN   \n",
       "3                              NaN                              NaN   \n",
       "4                              NaN                              NaN   \n",
       "\n",
       "  Physician_Profile_OPS_Taxonomy_5 Physician_Profile_License_State_Code_1  \\\n",
       "0                              NaN                                     PA   \n",
       "1                       2085N0700X                                     CA   \n",
       "2                              NaN                                     NJ   \n",
       "3                              NaN                                     TX   \n",
       "4                              NaN                                     MI   \n",
       "\n",
       "  Physician_Profile_License_State_Code_2  \\\n",
       "0                                     MI   \n",
       "1                                    NaN   \n",
       "2                                    NaN   \n",
       "3                                    NaN   \n",
       "4                                    NaN   \n",
       "\n",
       "  Physician_Profile_License_State_Code_3  \\\n",
       "0                                    NaN   \n",
       "1                                    NaN   \n",
       "2                                    NaN   \n",
       "3                                    NaN   \n",
       "4                                    NaN   \n",
       "\n",
       "  Physician_Profile_License_State_Code_4  \\\n",
       "0                                    NaN   \n",
       "1                                    NaN   \n",
       "2                                    NaN   \n",
       "3                                    NaN   \n",
       "4                                    NaN   \n",
       "\n",
       "  Physician_Profile_License_State_Code_5  \n",
       "0                                    NaN  \n",
       "1                                    NaN  \n",
       "2                                    NaN  \n",
       "3                                    NaN  \n",
       "4                                    NaN  \n",
       "\n",
       "[5 rows x 27 columns]"
      ]
     },
     "execution_count": 3,
     "metadata": {},
     "output_type": "execute_result"
    }
   ],
   "source": [
    "physicians.head()"
   ]
  },
  {
   "cell_type": "code",
   "execution_count": 12,
   "metadata": {
    "collapsed": false
   },
   "outputs": [
    {
     "data": {
      "text/plain": [
       "Index([u'Physician_Profile_ID', u'Physician_Profile_First_Name',\n",
       "       u'Physician_Profile_Middle_Name', u'Physician_Profile_Last_Name',\n",
       "       u'Physician_Profile_Suffix', u'Physician_Profile_Alternate_First_Name',\n",
       "       u'Physician_Profile_Alternate_Middle_Name',\n",
       "       u'Physician_Profile_Alternate_Last_Name',\n",
       "       u'Physician_Profile_Alternate_Suffix',\n",
       "       u'Physician_Profile_Address_Line_1',\n",
       "       u'Physician_Profile_Address_Line_2', u'Physician_Profile_City',\n",
       "       u'Physician_Profile_State', u'Physician_Profile_Zipcode',\n",
       "       u'Physician_Profile_Country_Name', u'Physician_Profile_Province_Name',\n",
       "       u'Physician_Profile_Primary_Specialty',\n",
       "       u'Physician_Profile_OPS_Taxonomy_1',\n",
       "       u'Physician_Profile_OPS_Taxonomy_2',\n",
       "       u'Physician_Profile_OPS_Taxonomy_3',\n",
       "       u'Physician_Profile_OPS_Taxonomy_4',\n",
       "       u'Physician_Profile_OPS_Taxonomy_5',\n",
       "       u'Physician_Profile_License_State_Code_1',\n",
       "       u'Physician_Profile_License_State_Code_2',\n",
       "       u'Physician_Profile_License_State_Code_3',\n",
       "       u'Physician_Profile_License_State_Code_4',\n",
       "       u'Physician_Profile_License_State_Code_5'],\n",
       "      dtype='object')"
      ]
     },
     "execution_count": 12,
     "metadata": {},
     "output_type": "execute_result"
    }
   ],
   "source": [
    "physicians.columns"
   ]
  },
  {
   "cell_type": "markdown",
   "metadata": {
    "collapsed": true
   },
   "source": [
    "### MAX 2013 Data"
   ]
  },
  {
   "cell_type": "code",
   "execution_count": 4,
   "metadata": {
    "collapsed": false
   },
   "outputs": [],
   "source": [
    "claims_anomaly = pd.read_excel('../data/MAX_2013/CLAIMS_Anomaly_Tables_MAX_2013_508.xlsx')"
   ]
  },
  {
   "cell_type": "code",
   "execution_count": 6,
   "metadata": {
    "collapsed": false
   },
   "outputs": [
    {
     "data": {
      "text/html": [
       "<div>\n",
       "<table border=\"1\" class=\"dataframe\">\n",
       "  <thead>\n",
       "    <tr style=\"text-align: right;\">\n",
       "      <th></th>\n",
       "      <th>Mathematica Policy Research logo and report logo</th>\n",
       "    </tr>\n",
       "  </thead>\n",
       "  <tbody>\n",
       "    <tr>\n",
       "      <th>0</th>\n",
       "      <td>BLANK</td>\n",
       "    </tr>\n",
       "    <tr>\n",
       "      <th>1</th>\n",
       "      <td>Medicaid Analytic Extract</td>\n",
       "    </tr>\n",
       "    <tr>\n",
       "      <th>2</th>\n",
       "      <td>Claims Anomaly Tables, 2013</td>\n",
       "    </tr>\n",
       "    <tr>\n",
       "      <th>3</th>\n",
       "      <td>June 30, 2016</td>\n",
       "    </tr>\n",
       "    <tr>\n",
       "      <th>4</th>\n",
       "      <td>BLANK</td>\n",
       "    </tr>\n",
       "    <tr>\n",
       "      <th>5</th>\n",
       "      <td>Submitted to:</td>\n",
       "    </tr>\n",
       "    <tr>\n",
       "      <th>6</th>\n",
       "      <td>Centers for Medicare &amp; Medicaid Services \\n750...</td>\n",
       "    </tr>\n",
       "    <tr>\n",
       "      <th>7</th>\n",
       "      <td>BLANK</td>\n",
       "    </tr>\n",
       "    <tr>\n",
       "      <th>8</th>\n",
       "      <td>Submitted by:</td>\n",
       "    </tr>\n",
       "    <tr>\n",
       "      <th>9</th>\n",
       "      <td>Mathematica Policy Research\\n1100 1st Street, ...</td>\n",
       "    </tr>\n",
       "    <tr>\n",
       "      <th>10</th>\n",
       "      <td>End of worksheet</td>\n",
       "    </tr>\n",
       "  </tbody>\n",
       "</table>\n",
       "</div>"
      ],
      "text/plain": [
       "     Mathematica Policy Research logo and report logo\n",
       "0                                               BLANK\n",
       "1                           Medicaid Analytic Extract\n",
       "2                         Claims Anomaly Tables, 2013\n",
       "3                                       June 30, 2016\n",
       "4                                               BLANK\n",
       "5                                       Submitted to:\n",
       "6   Centers for Medicare & Medicaid Services \\n750...\n",
       "7                                               BLANK\n",
       "8                                       Submitted by:\n",
       "9   Mathematica Policy Research\\n1100 1st Street, ...\n",
       "10                                   End of worksheet"
      ]
     },
     "execution_count": 6,
     "metadata": {},
     "output_type": "execute_result"
    }
   ],
   "source": [
    "claims_anomaly"
   ]
  },
  {
   "cell_type": "code",
   "execution_count": null,
   "metadata": {
    "collapsed": true
   },
   "outputs": [],
   "source": []
  },
  {
   "cell_type": "code",
   "execution_count": null,
   "metadata": {
    "collapsed": true
   },
   "outputs": [],
   "source": []
  }
 ],
 "metadata": {
  "kernelspec": {
   "display_name": "Python 2",
   "language": "python",
   "name": "python2"
  },
  "language_info": {
   "codemirror_mode": {
    "name": "ipython",
    "version": 2
   },
   "file_extension": ".py",
   "mimetype": "text/x-python",
   "name": "python",
   "nbconvert_exporter": "python",
   "pygments_lexer": "ipython2",
   "version": "2.7.7rc1"
  }
 },
 "nbformat": 4,
 "nbformat_minor": 0
}
